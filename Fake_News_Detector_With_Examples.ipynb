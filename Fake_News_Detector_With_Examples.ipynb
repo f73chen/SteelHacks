{
  "nbformat": 4,
  "nbformat_minor": 0,
  "metadata": {
    "colab": {
      "name": "Fake News Detector.ipynb",
      "provenance": [],
      "collapsed_sections": []
    },
    "kernelspec": {
      "name": "python3",
      "display_name": "Python 3"
    },
    "accelerator": "GPU"
  },
  "cells": [
    {
      "cell_type": "code",
      "metadata": {
        "colab": {
          "base_uri": "https://localhost:8080/"
        },
        "id": "OtACQN-ivVEW",
        "outputId": "98b2ed45-4d5a-475d-e643-c3391f459bbf"
      },
      "source": [
        "# Install and import libraries\r\n",
        "import numpy as np\r\n",
        "import pandas as pd\r\n",
        "import matplotlib.pyplot as plt\r\n",
        "from sklearn.utils import shuffle\r\n",
        "\r\n",
        "!pip install torch torchvision\r\n",
        "!pip install transformers\r\n",
        "\r\n",
        "from transformers import BertTokenizer, BertForSequenceClassification\r\n",
        "import torch\r\n",
        "import torch.nn as nn\r\n",
        "import torch.optim as optim\r\n",
        "import torch.nn.functional as F"
      ],
      "execution_count": 25,
      "outputs": [
        {
          "output_type": "stream",
          "text": [
            "Requirement already satisfied: torch in /usr/local/lib/python3.6/dist-packages (1.7.0+cu101)\n",
            "Requirement already satisfied: torchvision in /usr/local/lib/python3.6/dist-packages (0.8.1+cu101)\n",
            "Requirement already satisfied: dataclasses in /usr/local/lib/python3.6/dist-packages (from torch) (0.8)\n",
            "Requirement already satisfied: typing-extensions in /usr/local/lib/python3.6/dist-packages (from torch) (3.7.4.3)\n",
            "Requirement already satisfied: future in /usr/local/lib/python3.6/dist-packages (from torch) (0.16.0)\n",
            "Requirement already satisfied: numpy in /usr/local/lib/python3.6/dist-packages (from torch) (1.19.5)\n",
            "Requirement already satisfied: pillow>=4.1.1 in /usr/local/lib/python3.6/dist-packages (from torchvision) (7.0.0)\n",
            "Requirement already satisfied: transformers in /usr/local/lib/python3.6/dist-packages (4.3.2)\n",
            "Requirement already satisfied: requests in /usr/local/lib/python3.6/dist-packages (from transformers) (2.23.0)\n",
            "Requirement already satisfied: dataclasses; python_version < \"3.7\" in /usr/local/lib/python3.6/dist-packages (from transformers) (0.8)\n",
            "Requirement already satisfied: sacremoses in /usr/local/lib/python3.6/dist-packages (from transformers) (0.0.43)\n",
            "Requirement already satisfied: filelock in /usr/local/lib/python3.6/dist-packages (from transformers) (3.0.12)\n",
            "Requirement already satisfied: importlib-metadata; python_version < \"3.8\" in /usr/local/lib/python3.6/dist-packages (from transformers) (3.4.0)\n",
            "Requirement already satisfied: numpy>=1.17 in /usr/local/lib/python3.6/dist-packages (from transformers) (1.19.5)\n",
            "Requirement already satisfied: packaging in /usr/local/lib/python3.6/dist-packages (from transformers) (20.9)\n",
            "Requirement already satisfied: regex!=2019.12.17 in /usr/local/lib/python3.6/dist-packages (from transformers) (2019.12.20)\n",
            "Requirement already satisfied: tokenizers<0.11,>=0.10.1 in /usr/local/lib/python3.6/dist-packages (from transformers) (0.10.1)\n",
            "Requirement already satisfied: tqdm>=4.27 in /usr/local/lib/python3.6/dist-packages (from transformers) (4.41.1)\n",
            "Requirement already satisfied: idna<3,>=2.5 in /usr/local/lib/python3.6/dist-packages (from requests->transformers) (2.10)\n",
            "Requirement already satisfied: chardet<4,>=3.0.2 in /usr/local/lib/python3.6/dist-packages (from requests->transformers) (3.0.4)\n",
            "Requirement already satisfied: urllib3!=1.25.0,!=1.25.1,<1.26,>=1.21.1 in /usr/local/lib/python3.6/dist-packages (from requests->transformers) (1.24.3)\n",
            "Requirement already satisfied: certifi>=2017.4.17 in /usr/local/lib/python3.6/dist-packages (from requests->transformers) (2020.12.5)\n",
            "Requirement already satisfied: six in /usr/local/lib/python3.6/dist-packages (from sacremoses->transformers) (1.15.0)\n",
            "Requirement already satisfied: joblib in /usr/local/lib/python3.6/dist-packages (from sacremoses->transformers) (1.0.0)\n",
            "Requirement already satisfied: click in /usr/local/lib/python3.6/dist-packages (from sacremoses->transformers) (7.1.2)\n",
            "Requirement already satisfied: zipp>=0.5 in /usr/local/lib/python3.6/dist-packages (from importlib-metadata; python_version < \"3.8\"->transformers) (3.4.0)\n",
            "Requirement already satisfied: typing-extensions>=3.6.4; python_version < \"3.8\" in /usr/local/lib/python3.6/dist-packages (from importlib-metadata; python_version < \"3.8\"->transformers) (3.7.4.3)\n",
            "Requirement already satisfied: pyparsing>=2.0.2 in /usr/local/lib/python3.6/dist-packages (from packaging->transformers) (2.4.7)\n"
          ],
          "name": "stdout"
        }
      ]
    },
    {
      "cell_type": "code",
      "metadata": {
        "colab": {
          "base_uri": "https://localhost:8080/"
        },
        "id": "ydYk_ZZCbh4T",
        "outputId": "80e705bc-4b18-47cd-87b7-7a8b0a12e2e9"
      },
      "source": [
        "# Import and load dataset\r\n",
        "!git clone https://github.com/f73chen/SteelHacks\r\n",
        "%cd SteelHacks/Fake_and_real_news_dataset/\r\n",
        "\r\n",
        "real = pd.read_csv('True.csv')\r\n",
        "fake = pd.read_csv('Fake.csv')"
      ],
      "execution_count": 10,
      "outputs": [
        {
          "output_type": "stream",
          "text": [
            "Cloning into 'SteelHacks'...\n",
            "remote: Enumerating objects: 8, done.\u001b[K\n",
            "remote: Counting objects: 100% (8/8), done.\u001b[K\n",
            "remote: Compressing objects: 100% (6/6), done.\u001b[K\n",
            "remote: Total 8 (delta 0), reused 5 (delta 0), pack-reused 0\u001b[K\n",
            "Unpacking objects: 100% (8/8), done.\n",
            "/content/SteelHacks/Fake_and_real_news_dataset\n"
          ],
          "name": "stdout"
        }
      ]
    },
    {
      "cell_type": "code",
      "metadata": {
        "id": "mJEppnmTvKP3"
      },
      "source": [
        "# Make both sets the same length\r\n",
        "cutoff = min(len(real), len(fake))\r\n",
        "real = real[:cutoff]\r\n",
        "fake = fake[:cutoff]"
      ],
      "execution_count": 11,
      "outputs": []
    },
    {
      "cell_type": "code",
      "metadata": {
        "id": "8RqXcbfrv08d"
      },
      "source": [
        "# Add classification label\r\n",
        "real['fake'] = False\r\n",
        "fake['fake'] = True"
      ],
      "execution_count": 12,
      "outputs": []
    },
    {
      "cell_type": "code",
      "metadata": {
        "id": "1-5bpNfIwWTF"
      },
      "source": [
        "# Merge the sets and shuffle order\r\n",
        "df = pd.concat([real, fake])\r\n",
        "df = shuffle(df).reset_index(drop = True)"
      ],
      "execution_count": 13,
      "outputs": []
    },
    {
      "cell_type": "code",
      "metadata": {
        "colab": {
          "base_uri": "https://localhost:8080/"
        },
        "id": "734MEYMtwkPA",
        "outputId": "2ea4c2f0-a70e-4af7-fd1c-3e269c99d992"
      },
      "source": [
        "# Split into training, validation, and testing\r\n",
        "train, val, test = np.split(df.sample(frac = 1), [int(0.6 * len(df)), int(0.8 * len(df))])\r\n",
        "\r\n",
        "train = train.reset_index(drop = True)\r\n",
        "val = val.reset_index(drop = True)\r\n",
        "test = test.reset_index(drop = True)\r\n",
        "\r\n",
        "del real; del fake\r\n",
        "\r\n",
        "print(f\"training set length: {len(train)}\")\r\n",
        "print(f\"validation set length: {len(val)}\")\r\n",
        "print(f\"testing set length: {len(test)}\")"
      ],
      "execution_count": 16,
      "outputs": [
        {
          "output_type": "stream",
          "text": [
            "training set length: 25700\n",
            "validation set length: 8567\n",
            "testing set length: 8567\n"
          ],
          "name": "stdout"
        }
      ]
    },
    {
      "cell_type": "code",
      "metadata": {
        "colab": {
          "base_uri": "https://localhost:8080/"
        },
        "id": "jWovlylXxC_Z",
        "outputId": "7894b174-984f-4308-a6aa-364ca537769c"
      },
      "source": [
        "# Import pre-trained BERT model for transfer learning\r\n",
        "device = torch.device('cuda') if torch.cuda.is_available() else torch.device('cpu')\r\n",
        "tokenizer = BertTokenizer.from_pretrained(\"bert-base-uncased\")\r\n",
        "model = BertForSequenceClassification.from_pretrained(\"bert-base-uncased\")\r\n",
        "model.config.num_labels = 1"
      ],
      "execution_count": 17,
      "outputs": [
        {
          "output_type": "stream",
          "text": [
            "Some weights of the model checkpoint at bert-base-uncased were not used when initializing BertForSequenceClassification: ['cls.predictions.bias', 'cls.predictions.transform.dense.weight', 'cls.predictions.transform.dense.bias', 'cls.predictions.decoder.weight', 'cls.seq_relationship.weight', 'cls.seq_relationship.bias', 'cls.predictions.transform.LayerNorm.weight', 'cls.predictions.transform.LayerNorm.bias']\n",
            "- This IS expected if you are initializing BertForSequenceClassification from the checkpoint of a model trained on another task or with another architecture (e.g. initializing a BertForSequenceClassification model from a BertForPreTraining model).\n",
            "- This IS NOT expected if you are initializing BertForSequenceClassification from the checkpoint of a model that you expect to be exactly identical (initializing a BertForSequenceClassification model from a BertForSequenceClassification model).\n",
            "Some weights of BertForSequenceClassification were not initialized from the model checkpoint at bert-base-uncased and are newly initialized: ['classifier.weight', 'classifier.bias']\n",
            "You should probably TRAIN this model on a down-stream task to be able to use it for predictions and inference.\n"
          ],
          "name": "stderr"
        }
      ]
    },
    {
      "cell_type": "code",
      "metadata": {
        "id": "WRJmdcxbxIyK"
      },
      "source": [
        "# Freeze pre-trained weights and add 3 new layers\r\n",
        "for param in model.parameters():\r\n",
        "  param.requires_grad = False\r\n",
        "\r\n",
        "model.classifier = nn.Sequential(nn.Linear(768, 256),\r\n",
        "                                 nn.ReLU(),\r\n",
        "                                 nn.Linear(256, 64),\r\n",
        "                                 nn.ReLU(),\r\n",
        "                                 nn.Linear(64, 2),\r\n",
        "                                 nn.Softmax(dim = 1))\r\n",
        "\r\n",
        "model = model.to(device)"
      ],
      "execution_count": 18,
      "outputs": []
    },
    {
      "cell_type": "code",
      "metadata": {
        "id": "AggJ3Qgo7jlq"
      },
      "source": [
        "criterion = nn.MSELoss().to(device)\r\n",
        "optimizer = optim.SGD(model.classifier.parameters(), lr = 0.01)"
      ],
      "execution_count": 20,
      "outputs": []
    },
    {
      "cell_type": "code",
      "metadata": {
        "id": "WJywjv4Z73Al"
      },
      "source": [
        "def preprocess_text(text):\r\n",
        "  parts = []\r\n",
        "  text_len = len(text.split(' '))\r\n",
        "  delta = 300\r\n",
        "  max_parts = 5\r\n",
        "  nb_cuts = int(text_len / delta)\r\n",
        "  nb_cuts = min(nb_cuts, max_parts)\r\n",
        "\r\n",
        "  for i in range(nb_cuts + 1):\r\n",
        "    text_part = ' '.join(text.split(' ')[i * delta : (i+1) * delta])\r\n",
        "    parts.append(tokenizer.encode(text_part, return_tensors = \"pt\",\r\n",
        "                                  max_length = 500).to(device))\r\n",
        "  return parts"
      ],
      "execution_count": 21,
      "outputs": []
    },
    {
      "cell_type": "code",
      "metadata": {
        "colab": {
          "base_uri": "https://localhost:8080/"
        },
        "id": "W2gqKrel9B7B",
        "outputId": "fe80b2c2-4348-43bd-e4fa-3c0060c1a321"
      },
      "source": [
        "print_every = 300\r\n",
        "total_loss = 0\r\n",
        "all_losses = []\r\n",
        "CUDA_LAUNCH_BLOCKING = 1\r\n",
        "\r\n",
        "model.train()\r\n",
        "\r\n",
        "for i, row in train.iterrows():\r\n",
        "  text = preprocess_text(str(row['text']))\r\n",
        "  label = torch.tensor([row['fake']]).long().to(device)\r\n",
        "\r\n",
        "  optimizer.zero_grad()\r\n",
        "\r\n",
        "  output = torch.zeros((1, 2)).float().to(device)\r\n",
        "  for part in text:\r\n",
        "    if len(part > 0):\r\n",
        "      try:\r\n",
        "        input = part.reshape(-1)[:512].reshape(1, -1)\r\n",
        "        output += model(input, labels = label)[1].float().to(device)\r\n",
        "      except Exception as e:\r\n",
        "        print(str(e))\r\n",
        "\r\n",
        "  output = F.softmax(output[0], dim = -1)\r\n",
        "\r\n",
        "  if label == 0:\r\n",
        "    label = torch.tensor([1.0, 0.0]).float().to(device)\r\n",
        "  elif label == 1:\r\n",
        "    label = torch.tensor([0.0, 1.0]).float().to(device)\r\n",
        "\r\n",
        "  loss = criterion(output, label)\r\n",
        "  total_loss += loss.item()\r\n",
        "\r\n",
        "  loss.backward()\r\n",
        "  optimizer.step()\r\n",
        "\r\n",
        "  if i % print_every == 0 and i > 0:\r\n",
        "    avg_loss = total_loss / print_every\r\n",
        "    print(\"{}/{}. Average loss: {}\".format(i, len(train), avg_loss))\r\n",
        "    all_losses.append(avg_loss)\r\n",
        "    total_loss = 0"
      ],
      "execution_count": 24,
      "outputs": [
        {
          "output_type": "stream",
          "text": [
            "Truncation was not explicitly activated but `max_length` is provided a specific value, please use `truncation=True` to explicitly truncate examples to max length. Defaulting to 'longest_first' truncation strategy. If you encode pairs of sequences (GLUE-style) with the tokenizer you can select this strategy more precisely by providing a specific strategy to `truncation`.\n"
          ],
          "name": "stderr"
        },
        {
          "output_type": "stream",
          "text": [
            "300/25700. Average loss: 0.24730738694469134\n",
            "600/25700. Average loss: 0.23601459407558043\n",
            "900/25700. Average loss: 0.20681377058227857\n",
            "1200/25700. Average loss: 0.18053815816529095\n",
            "1500/25700. Average loss: 0.14881129760013814\n",
            "1800/25700. Average loss: 0.15945958487369352\n",
            "2100/25700. Average loss: 0.12064189032828532\n",
            "2400/25700. Average loss: 0.1492676494368061\n",
            "2700/25700. Average loss: 0.12111088724758398\n",
            "3000/25700. Average loss: 0.09609953398268166\n",
            "3300/25700. Average loss: 0.10401090970772202\n",
            "3600/25700. Average loss: 0.10820656015517063\n",
            "3900/25700. Average loss: 0.09292697250062096\n",
            "4200/25700. Average loss: 0.0938761470518269\n",
            "4500/25700. Average loss: 0.08250889229139527\n",
            "4800/25700. Average loss: 0.08808765502223347\n",
            "5100/25700. Average loss: 0.08157614235882647\n",
            "5400/25700. Average loss: 0.10658250410653029\n",
            "5700/25700. Average loss: 0.10076413939890093\n",
            "6000/25700. Average loss: 0.07149609892769755\n",
            "6300/25700. Average loss: 0.07645434153906536\n",
            "6600/25700. Average loss: 0.09344378570967668\n",
            "6900/25700. Average loss: 0.0690642505682384\n",
            "7200/25700. Average loss: 0.0959948557164489\n",
            "7500/25700. Average loss: 0.0839531079828339\n",
            "7800/25700. Average loss: 0.06734219828378021\n",
            "8100/25700. Average loss: 0.09864810964412754\n",
            "8400/25700. Average loss: 0.09022025910225541\n",
            "8700/25700. Average loss: 0.08047590732981158\n",
            "9000/25700. Average loss: 0.09149394177237506\n",
            "9300/25700. Average loss: 0.07364308909893225\n",
            "9600/25700. Average loss: 0.0818690215931171\n",
            "9900/25700. Average loss: 0.08065551468382788\n",
            "10200/25700. Average loss: 0.07185831127527914\n",
            "10500/25700. Average loss: 0.06469583017228009\n",
            "10800/25700. Average loss: 0.0818005672504205\n",
            "11100/25700. Average loss: 0.07490362102898568\n",
            "11400/25700. Average loss: 0.07575300342226607\n",
            "11700/25700. Average loss: 0.08437511813994206\n",
            "12000/25700. Average loss: 0.07982564529922456\n",
            "12300/25700. Average loss: 0.06884602904329465\n",
            "12600/25700. Average loss: 0.05749586677543145\n",
            "12900/25700. Average loss: 0.07762769284510189\n",
            "13200/25700. Average loss: 0.06250544053969558\n",
            "13500/25700. Average loss: 0.07042256607133215\n",
            "13800/25700. Average loss: 0.08403993451890225\n",
            "14100/25700. Average loss: 0.09758683519759263\n",
            "14400/25700. Average loss: 0.07073459452679041\n",
            "14700/25700. Average loss: 0.06537935367487686\n",
            "15000/25700. Average loss: 0.09772153079428487\n",
            "15300/25700. Average loss: 0.07991444370437875\n",
            "15600/25700. Average loss: 0.07211243169248822\n",
            "15900/25700. Average loss: 0.06779752162692602\n",
            "16200/25700. Average loss: 0.07410195481725168\n",
            "16500/25700. Average loss: 0.09145665422111354\n",
            "16800/25700. Average loss: 0.07295817876050327\n",
            "17100/25700. Average loss: 0.07507243946238304\n",
            "17400/25700. Average loss: 0.08652473562135128\n",
            "17700/25700. Average loss: 0.06542984075290406\n",
            "18000/25700. Average loss: 0.06011278521786153\n",
            "18300/25700. Average loss: 0.06745103463888275\n",
            "18600/25700. Average loss: 0.07640412832587269\n",
            "18900/25700. Average loss: 0.07892380334336242\n",
            "19200/25700. Average loss: 0.06582013603770367\n",
            "19500/25700. Average loss: 0.08002617714696801\n",
            "19800/25700. Average loss: 0.09282190885123176\n",
            "20100/25700. Average loss: 0.08421003664583622\n",
            "20400/25700. Average loss: 0.08575657061350285\n",
            "20700/25700. Average loss: 0.06588238953537257\n",
            "21000/25700. Average loss: 0.07203530991070693\n",
            "21300/25700. Average loss: 0.07153817321080017\n",
            "21600/25700. Average loss: 0.07746035165982904\n",
            "21900/25700. Average loss: 0.07527840467583398\n",
            "22200/25700. Average loss: 0.0781568720335387\n",
            "22500/25700. Average loss: 0.0725621480338547\n",
            "22800/25700. Average loss: 0.07272893174335573\n",
            "23100/25700. Average loss: 0.06595170856807575\n",
            "23400/25700. Average loss: 0.07338085629695949\n",
            "23700/25700. Average loss: 0.07709370420319223\n",
            "24000/25700. Average loss: 0.07078065025587117\n",
            "24300/25700. Average loss: 0.07523382269350805\n",
            "24600/25700. Average loss: 0.06788586936108004\n",
            "24900/25700. Average loss: 0.07835812913733207\n",
            "25200/25700. Average loss: 0.08550096474163486\n",
            "25500/25700. Average loss: 0.06027072095885766\n"
          ],
          "name": "stdout"
        }
      ]
    },
    {
      "cell_type": "code",
      "metadata": {
        "colab": {
          "base_uri": "https://localhost:8080/",
          "height": 282
        },
        "id": "2yQu50S39PUl",
        "outputId": "3fe31665-d366-4a61-980d-1d57195f27c9"
      },
      "source": [
        "%matplotlib inline\r\n",
        "torch.save(model.state_dict(), \"trained_model.pt\")\r\n",
        "plt.plot(all_losses)"
      ],
      "execution_count": 26,
      "outputs": [
        {
          "output_type": "execute_result",
          "data": {
            "text/plain": [
              "[<matplotlib.lines.Line2D at 0x7f78ef078048>]"
            ]
          },
          "metadata": {
            "tags": []
          },
          "execution_count": 26
        },
        {
          "output_type": "display_data",
          "data": {
            "image/png": "[encoded data removed]",
            "text/plain": [
              "<Figure size 432x288 with 1 Axes>"
            ]
          },
          "metadata": {
            "tags": [],
            "needs_background": "light"
          }
        }
      ]
    },
    {
      "cell_type": "code",
      "metadata": {
        "colab": {
          "base_uri": "https://localhost:8080/"
        },
        "id": "e1KxV02--AlR",
        "outputId": "29db5d51-280b-4dad-d166-c63f18a87641"
      },
      "source": [
        "# Test accuracy on the test set\r\n",
        "total = len(test)\r\n",
        "correct = 0\r\n",
        "model.eval()\r\n",
        "\r\n",
        "with torch.no_grad():\r\n",
        "  for i, row in test.iterrows():\r\n",
        "    text = preprocess_text(str(row['text']))\r\n",
        "    label = torch.tensor([row['fake']]).float().to(device)\r\n",
        "    \r\n",
        "    output = torch.zeros((1, 2)).to(device)\r\n",
        "    try:\r\n",
        "      for part in text:\r\n",
        "        if len(part) > 0:\r\n",
        "          output += model(part.reshape(1, -1))[0]\r\n",
        "    except RuntimeError:\r\n",
        "      print(\"GPU out of memory, skipping this entry.\")\r\n",
        "      continue\r\n",
        "\r\n",
        "    output = F.softmax(output[0], dim = -1)\r\n",
        "    result = output.max(0)[1].float().item()\r\n",
        "\r\n",
        "    if result == label.item():\r\n",
        "      correct += 1\r\n",
        "\r\n",
        "    if i % print_every == 0 and i > 0:\r\n",
        "      print(\"{}/{}. Current accuracy: {}\".format(i, total, correct / i))\r\n",
        "\r\n",
        "print(\"Final accuracy on test data: {}\".format(correct / total))"
      ],
      "execution_count": 27,
      "outputs": [
        {
          "output_type": "stream",
          "text": [
            "300/8567. Current accuracy: 0.9733333333333334\n",
            "600/8567. Current accuracy: 0.965\n",
            "900/8567. Current accuracy: 0.9655555555555555\n",
            "1200/8567. Current accuracy: 0.9625\n",
            "1500/8567. Current accuracy: 0.9653333333333334\n",
            "1800/8567. Current accuracy: 0.9661111111111111\n",
            "2100/8567. Current accuracy: 0.9657142857142857\n",
            "2400/8567. Current accuracy: 0.9666666666666667\n",
            "2700/8567. Current accuracy: 0.9674074074074074\n",
            "3000/8567. Current accuracy: 0.963\n",
            "3300/8567. Current accuracy: 0.9627272727272728\n",
            "3600/8567. Current accuracy: 0.9633333333333334\n",
            "3900/8567. Current accuracy: 0.963076923076923\n",
            "4200/8567. Current accuracy: 0.9633333333333334\n",
            "4500/8567. Current accuracy: 0.9637777777777777\n",
            "4800/8567. Current accuracy: 0.9633333333333334\n",
            "5100/8567. Current accuracy: 0.9631372549019608\n",
            "5400/8567. Current accuracy: 0.9629629629629629\n",
            "5700/8567. Current accuracy: 0.9635087719298245\n",
            "6000/8567. Current accuracy: 0.9631666666666666\n",
            "6300/8567. Current accuracy: 0.9626984126984127\n",
            "6600/8567. Current accuracy: 0.9628787878787879\n",
            "6900/8567. Current accuracy: 0.9640579710144928\n",
            "7200/8567. Current accuracy: 0.9638888888888889\n",
            "7500/8567. Current accuracy: 0.9641333333333333\n",
            "7800/8567. Current accuracy: 0.9637179487179487\n",
            "8100/8567. Current accuracy: 0.9641975308641976\n",
            "8400/8567. Current accuracy: 0.965\n"
          ],
          "name": "stdout"
        }
      ]
    },
    {
      "cell_type": "code",
      "metadata": {
        "id": "i2Lcj8ebB33d"
      },
      "source": [
        "def test(text):\r\n",
        "  text = preprocess_text(text)\r\n",
        "  output = torch.zeros((1, 2)).to(device)\r\n",
        "  try:\r\n",
        "    for part in text:\r\n",
        "      if len(part) > 0:\r\n",
        "        output += model(part.reshape(1, -1))[0]\r\n",
        "  except RuntimeError:\r\n",
        "    print(\"GPU out of memory, skipping this entry.\")\r\n",
        "\r\n",
        "  output = F.softmax(output[0], dim = -1)\r\n",
        "  val, res = output.max(0)\r\n",
        "\r\n",
        "  term = \"real\" if res.item() == 0 else \"fake\"\r\n",
        "  print(\"{} at {}%\".format(term, val.item() * 100))"
      ],
      "execution_count": 32,
      "outputs": []
    },
    {
      "cell_type": "code",
      "metadata": {
        "colab": {
          "base_uri": "https://localhost:8080/"
        },
        "id": "kmcPNkW2DsBW",
        "outputId": "1cd84308-8bda-4ac7-eaf7-5966272fe515"
      },
      "source": [
        "# From original notebook\r\n",
        "fake1 = \"\"\"\r\n",
        "Americans to fund killing babies in abortion that she has been caught trying to add taxpayer financing of abortions to the bill to combat the Coronavirus and provide economic stimulus to the nation as it deals with the COVD-19 outbreak.\r\n",
        "Nancy Pelosi has a long history of promoting abortion and her first act after becoming Speaker in 2019 was pushing legislation to use tax money for abortions. So it’s no surprise she is trying to exploit the Coronavirus pandemic to push abortion funding again.\r\n",
        "As The Daily Caller reports: House Speaker Nancy Pelosi sought to include a potential way to guarantee federal funding for abortion into the coronavirus economic stimulus plan, according to multiple senior White House officials.\r\n",
        "Speaking to the Daily Caller, those officials alleged that while negotiating the stimulus with U.S. Treasury Secretary Steve Mnuchin, Pelosi tried to lobby for “several” provisions that stalled bipartisan commitment to the effort. One was a mandate for up to $1 billion to reimburse laboratory claims, which White House officials say would set a precedent of health spending without protections outlined in the Hyde Amendment.\r\n",
        "LifeNews depends on the support of readers like you to combat the pro-abortion media. Please donate now.\r\n",
        "“A New mandatory funding stream that does not have Hyde protections would be unprecedented,” one White House official explained. “Under the guise of protecting people, Speaker Pelosi is working to make sure taxpayer dollars are spent covering abortion—which is not only backwards, but goes against historical norms.”\r\n",
        "A second White House official referred to the provision as a “slush fund” and yet another questioned “what the Hyde Amendment and abortion have to do with protecting Americans from coronavirus?”\r\n",
        "Americans should insist to their members of Congress that we need a clean bill that provides aggressive action to help patients and spur the economy. Killing babies with our tax dollars is not the answer to the coronavirus and the situation should not be exploited for political gain.\r\n",
        "\"\"\"\r\n",
        "\r\n",
        "true1 = \"\"\"\r\n",
        "Price spikes, however, would cause demand to wither and some expensive avocados might be leftover, and stores might try to ration avocados, he added.\r\n",
        "\"Exactly what the retail strategy would be in this case, I’m not sure. But we would have vastly fewer avocados,\" Sumner said.\r\n",
        "Just how fast avocados would disappear, if at all, would depend on whether the Trump administration enacts a full or partial border closure. White House economic adviser Larry Kudlow told CNBC he’s looking for ways to keep some commerce flowing.\r\n",
        "\"We are looking at different options, particularly if you can keep those freight lanes, the truck lanes, open,\" he said this week.  \r\n",
        "Ben Holtz owns Rocky H Ranch, a 70-acre family-run avocado farm in northern San Diego County. He agreed avocados would run out within weeks.\r\n",
        "\"Mexico is the big player today. California is not. You shut down the border and California can’t produce to meet the demand,\" Holtz said. \"There will be people without their guacamole.\"\r\n",
        "While Mexico’s avocado harvest is year-round, California’s is limited to April through July. Growers in the state have picked only about 3 percent of what’s expected to be a much smaller crop of about 175 million pounds this year, Holtz said. A heat wave last summer reduced the crop size.\r\n",
        "California’s avocado harvest has averaged approximately 300 million pounds in recent years, according to data from the California Avocado Commission. By contrast, the U.S. has imported more than 1.5 billion pounds of avocados from Mexico annually. Representatives from the commission did not respond to requests for this article.\r\n",
        "Altogether, the U.S. received 43 percent of its fruit and vegetable imports from Mexico in 2016, according to the U.S. Department of Agriculture.\r\n",
        "Also affecting this year’s avocado supply, a California avocado company in March recalled shipments to six states last month after fears the fruit might be contaminated with a bacterium that can cause health risks.\r\n",
        "Until the early 2000s, California was the nation’s leading supplier of avocados, Holtz said. Mexico gradually overtook the state and now dominates sales in the U.S.\r\n",
        "\"It’s a very big possibility,\" Holtz said of avocado shortages. \"Three weeks would dry up the Mexican inventory. California alone consumes more avocados than are grown in our state. Cold storage supply chain is basically three weeks or less of inventory. Most of the time it’s seven days.\"\r\n",
        "A spokeswoman for the California Restaurant Association said \"we haven’t heard concerns from restaurants, it doesn’t mean they aren’t worried.\" A national grocers association said it will \"continue to closely monitor any developments\" at the border, but did not have information about the potential impact on avocados.\r\n",
        "\"\"\"\r\n",
        "\r\n",
        "test(fake1)\r\n",
        "test(true1)"
      ],
      "execution_count": 33,
      "outputs": [
        {
          "output_type": "stream",
          "text": [
            "real at 50.08867383003235%\n",
            "real at 87.96486854553223%\n"
          ],
          "name": "stdout"
        }
      ]
    },
    {
      "cell_type": "code",
      "metadata": {
        "colab": {
          "base_uri": "https://localhost:8080/"
        },
        "id": "_Y-5qfa3D0xM",
        "outputId": "7c2c6cbd-e853-4f6c-debd-07898bad9b81"
      },
      "source": [
        "# From prof's twitter\r\n",
        "real2 = \"\"\"\r\n",
        "Auto Dinosaurs Show They’re Not Dead Yet\r\n",
        "Daimler reported unexpectedly strong profits, underlining a rebound by traditional carmakers despite the pandemic.\r\n",
        "A year ago, investors had pretty much given up the big global carmakers for dead. Shares of Daimler, General Motors and Ford Motor were at 10-year lows. Electric vehicle start-ups without any sales were sometimes worth more than traditional automakers with tens of thousands of employees and factories all over the world. The pandemic looked as if it would seal the dinosaurs’ fate.\r\n",
        "But it turns out the old behemoths may not be doomed just yet. Earnings reported by Daimler on Thursday underlined a remarkable comeback by some traditional carmakers. These companies have managed to survive the pandemic, reorient to electric vehicles and convince stock market investors that they are not going to let Tesla take their customers without a fight.\r\n",
        "Daimler shares have tripled since hitting a low point in March, and rose again Thursday after the company said net profit for the year increased almost 50 percent to 4 billon euros, or $4.8 billion, from 2019.\r\n",
        "General Motors’ shares have also nearly tripled since March. The company beat analysts’ expectations last week when it reported net profit for the fourth quarter of $2.8 billion, against a loss a year earlier.\r\n",
        "In addition to making more money than investors thought was possible in a year of turmoil, the two companies, which date to the early 20th century, have been making decisions that show they grasp the technological changes upending the industry.\r\n",
        "G.M. shifted perceptions of its commitment to electric vehicles when it said last month that it would phase out vehicles powered by fossil fuels by 2035. Daimler shares spiked after the company said this month that it would split its car and truck divisions into separate companies, each with its own stock listing. Daimler, based in Stuttgart, Germany, makes Mercedes-Benz luxury cars and Freightliner trucks.\r\n",
        "Ola Källenius, the Daimler chief executive, said the decision to break up the company was intended to give managers more freedom to react to technological change.\r\n",
        "“As the speed of the transformation of the auto industries is picking up,” Mr. Källenius said in an interview, “decision-making speed is crucial.”\r\n",
        "G.M.’s promise to swear off fossil fuels, though not for another 14 years, set off a chain reaction in the industry. Ford said Wednesday that by 2030, all its passenger cars sold in Europe would run solely on batteries. Jaguar Land Rover said Monday that all its Jaguar luxury cars and 60 percent of Land Rover luxury S.U.V.s would run solely on batteries by 2030.\r\n",
        "Mr. Källenius has avoided making a similar declaration. In many markets where the company is active, there is no infrastructure for electric cars, he pointed out. Therefore, a vow of fossil-fuel abstinence “is not something we should do just to get a headline,” he said.\r\n",
        "But all future Mercedes-Benz models will be designed to be electric, Mr. Källenius said. “Our technology path is clear,” he said. “We are going to take a leading position. It’s a tad too early to pick a date for the world when the last combustion engine will leave the production line.”\r\n",
        "Investors seem to be rewarding carmakers that show they can build electric cars. Shares of Ford, whose Mustang Mach-E has gotten good reviews, have doubled since hitting their nadir in March. Shares of the French carmaker Renault have also more than doubled since then; its affordable Zoe subcompact was the best-selling battery-powered car in Europe last year.\r\n",
        "Daimler will begin selling several new electric vehicles this year, including the Mercedes-Benz EQS, a counterpart to the company’s top-of-the-line S Class car. The EQS will go on sale in the summer for a starting price probably above $100,000.\r\n",
        "So far, electric cars are nowhere near as profitable for Daimler and other traditional carmakers as gasoline models. Battery systems are more costly than conventional engines and transmissions, and automakers are still learning how to manufacture electric cars efficiently. It will take time to achieve the profit margins “we’re used to on the internal combustion side,” Mr. Källenius said.\r\n",
        "Daimler’s unexpectedly healthy profit in 2020 was the result of old-fashioned cost-cutting rather than any technological breakthrough. The company reduced its work force by 7,000 employees, or 4 percent, and cut the research and development budget, which Mr. Källenius said was still big compared with competitors.\r\n",
        "When the pandemic struck, Daimler quickly dialed back production so it was not stuck with unsold vehicles, Mr. Källenius said.\r\n",
        "Even after the sharp gains in their share prices, Daimler and G.M. are still worth only about one-tenth as much on the stock market as Tesla, which makes only a tiny fraction as many vehicles. Investors are dazzled by Elon Musk, the Tesla chief executive, and have more faith in a company that makes nothing but electric cars.\r\n",
        "As Mr. Källenius conceded, the dinosaurs still have a lot of convincing to do before investors will believe they have as much potential.\r\n",
        "“The financial market is going to wait and see a little bit,” he said. “How is this going to play out?”\r\n",
        "“Gradually the financial market is starting to look at our technology portfolio, and everything we have in the pipeline,” Mr. Källenius said.\r\n",
        "\"\"\"\r\n",
        "\r\n",
        "test(real2)"
      ],
      "execution_count": 35,
      "outputs": [
        {
          "output_type": "stream",
          "text": [
            "fake at 61.966919898986816%\n"
          ],
          "name": "stdout"
        }
      ]
    },
    {
      "cell_type": "code",
      "metadata": {
        "colab": {
          "base_uri": "https://localhost:8080/"
        },
        "id": "KI3aScQoGvSX",
        "outputId": "36d4c19f-7cb6-49fa-ad8b-f99539e03cfd"
      },
      "source": [
        "# From prof's twitter\r\n",
        "real3 = \"\"\"\r\n",
        "The question every politician should be asking is, what does Mark Zuckerberg want with us?\r\n",
        "This is about more than Facebook and news – it’s about the pursuit of power in a world where companies are stronger than countries\r\n",
        "You can say Mark Zuckerberg puts you in mind of a lot of things. An efit of a man police would like to speak to in connection with supermarket food tampering. A pink and overscrubbed supervillain – Lex Loofah – or the classical bust of a Roman emperor who’s paused the rollout of his hair feature, and lists his hobbies as “flaying” and “indifference”.\r\n",
        "Ultimately, though, the most alarming way of looking at the Facebook boss is just factually: he’s the world’s most powerful oligarch, selling the lives of 2.7 billion monthly active users to advertisers, and actually modifying the behaviour of those users with a business model that deliberately amplifies incendiary, nasty, and frequently fake and dangerous things because that’s what keeps you on his platform longer. So yes: considering all that, it’s just a comforting cop-out to say “ooh, Zuckerberg looks like the character in a movie who’s just delivered the line ‘leave no trace of the village’”. Forget post-truth. Mark’s basically post-metaphor.\r\n",
        "Anyway, Zuckerberg is in the news along with News Corp boss Rupert Murdoch, in a heartwarming generational fight between billionaires for who gets to say: “Bitch, I’m not IN the news, I OWN the news.” In short, Murdoch (and other news publishers) have long demanded Facebook and Google pay for people linking to or discussing their content on their platforms, or including it in search results. Facebook and others have long resisted.\r\n",
        "Having failed to thrash out the issue in the thrashing yurt at various barefoot mogul retreats, Murdoch effectively instructed the Australian government to shake down the tech firms to pay publishers for the sharing of links, or stop allowing the practice. Yes, here he comes, Monty Burns-Unit, absolutely refusing to allow the trident to be prised from his claw by the Valley bros. This week, Google chucked him some undisclosed loose change just to shut him up, but Zuckerberg refused, turning off news sharing in Australia and removing most Australian media from its platform, as well as pages run by state health departments, charities and others. Alas, there is outcry, with the publishers seemingly not wanting the thing they said they wanted any more. It’s one of those fights where you’re rooting for the asteroid to end it.\r\n",
        "Of course, Facebook is the galactic leader in PR crises. In the company’s short, unimaginably powerful existence, they have made so many monstrous cock-ups and on such grand scales that it seems reasonable to predict the full collapse of human civilisation will be immediately succeeded by a Facebook statement containing the words: “We know we have more work to do.” It’ll probably have been drafted by Nick Clegg, whose political endpoint was always going to be donning Earth’s last crew-necked sweater and doing comms for the apocalypse.\r\n",
        "There is widespread outrage around the world over what’s happened in Australia, particularly from politicians still fighting the last war, specifically the one against Murdoch. Here’s some free BREAKING NEWS, guys: you lost that one. And given the scale of your newer foe, well … the tech companies have grown so far past the stage at which, say, oil companies were broken up, or inquiries into Microsoft begun, that humanity should probably stick a fiver on you losing this one too.\r\n",
        "The true tragedy, of course, is that these guys have so much in common. Rupert Murdoch recently received the Covid vaccination, which I read on Zuckerberg’s platform means he’s been injected with Bill Gates, a line of medical inquiry I hope to see enthusiastically taken up by anti-vax-adjacent Tucker Carlson on Murdoch’s own Fox News. Can people this ideologically similar really be so far apart? Let’s hope they can still put their differences aside to form some sort of Injustice League.\r\n",
        "As for the rest of us, it’s hard being told how beautiful it is to connect by Zuckerberg, whose smile hasn’t connected with his eyes since 2014. If friends are so important to our common goals, how come he doesn’t have any? Maybe commodifying friendship gives Mark the excuse for not partaking in it. You don’t see crack dealers using their own product, as the saying goes.\r\n",
        "People often claim you’re frozen developmentally at the time you become famous, which presumably stunts Zuckerberg back at the stage he was in his Harvard dorm room. I can’t believe a product created to rate women has ended up as what the business professor and tech commentator Scott Galloway calls “the biggest prostitute of hate in the history of mankind”. Honestly, what were the chances?\r\n",
        "In her book The Boy Kings, Katherine Losse chronicles her time at Facebook, from being one of the firm’s earliest employees to eventually becoming the person Zuckerberg appoints to write in his voice. Losse’s job was to impart Mark’s thoughts on “the way the world was going” to the company and the wider public. When I read the book, it was hard not to deem his personal philosophy nonexistent. It’s like he’s never thought about anything, ever, other than computer science and personal power.\r\n",
        "Naturally, Zuckerberg orders Losse to watch The West Wing. This was a while ago, of course, and it wasn’t quite four years ago that Zuckerberg embarked on a US listening tour, taking in “little people” locations like Iowa truck stops. This was widely interpreted as the start of a long run-up at a traditional presidential campaign. We haven’t heard a lot of that talk recently, but it seems reasonable to believe that Zuckerberg has since realised the president is very much junior personnel – something Murdoch understood decades ago, as far as Australian and UK prime ministers were concerned. Never mind truck stops being for little people. Politics is for little people.\r\n",
        "Of course, Zuckerberg is sometimes required to visit Washington and attend hearings, occasions for which Nick Clegg dresses the normally T-shirted statesman as the reluctant teenage best man at his mother’s third wedding. But as he accrues more and more unprecedented global power, the question every single politician should be asking themselves, like, yesterday, is: what does Mark Zuckerberg want with us? They should have clicked long ago that he isn’t remotely interested in news as an idea or service. In 2016, Zuckerberg summarily fired the team that curated “trending” news topics and replaced them with an algorithm that promptly began pushing fabricated news, as well as a video of a man wanking with a McChicken Sandwich.\r\n",
        "One of several essays Zuckerberg instructed Losse to write in his voice was “Companies over countries”. She resigned without completing it, but not before having asked him if he could expand the slogan. “I think we are moving to a world in which we all become cells in a single organism,” came Mark’s mild reply, “where we can communicate automatically and can all work together seamlessly.” Wow. A vision of our future that has me immediately paging Morpheus. Was Murdoch … was Murdoch actually the blue pill all along?\r\n",
        "Marina Hyde is a Guardian columnist\r\n",
        "\"\"\"\r\n",
        "\r\n",
        "test(real3)"
      ],
      "execution_count": 36,
      "outputs": [
        {
          "output_type": "stream",
          "text": [
            "fake at 81.6200315952301%\n"
          ],
          "name": "stdout"
        }
      ]
    },
    {
      "cell_type": "code",
      "metadata": {
        "colab": {
          "base_uri": "https://localhost:8080/"
        },
        "id": "3OLrimesHF2z",
        "outputId": "d926c301-29cf-47cb-9cd4-42f2b8c0b5c2"
      },
      "source": [
        "# From BBC front page\r\n",
        "real4 = \"\"\"\r\n",
        "Texas weather: President Biden to declare major disaster\r\n",
        "US President Joe Biden is set to declare a major disaster for Texas, clearing the way for more federal funds to be spent on relief efforts.\r\n",
        "Power is returning in the state and temperatures are set to rise but some 13 million people are still facing difficulties accessing clean water.\r\n",
        "Mr Biden has said he will visit Texas as long as his presence is not a burden on relief efforts.\r\n",
        "Nearly 60 deaths have been attributed to cold weather across the US.\r\n",
        "White House spokeswoman Jen Psaki confirmed Mr Biden has asked his team to expedite Texas' request for a disaster declaration.\r\n",
        "He has also been in touch with the mayors of some of Texas' biggest cities, such as Houston, Austin and Dallas, to ensure they have access to government resources, an administration official said.\r\n",
        "Several other southern states hit by snow and ice storms this week have also reported water service outages.\r\n",
        "Winter weather has also cut off water in the city of Jackson, Mississippi - home to around 150,000 people - as well as the largest county in Tennessee that includes the city of Memphis, with over 651,000 residents.\r\n",
        "Across the US South, a region unaccustomed to such frigid temperatures, people whose pipes have frozen have taken to boiling snow to make water.\r\n",
        "What is happening in Texas?\r\n",
        "The Southwestern state's energy grid has been overwhelmed by a surge in demand for heat as temperatures plummeted to 30-year lows, hitting 0F (-18C) earlier this week.\r\n",
        "As of Friday, about 180,000 homes and businesses in Texas still had no electricity. Amid freezing temperatures earlier this week, as many as 3.3 million were without power.\r\n",
        "Around 13 million people - close to half of the state's population - have faced some disruption of water services as hundreds of water systems have been damaged by the freeze.\r\n",
        "Austin, the state's capital, lost 325m gallons (1.2bn litres) of water when pipes burst, the city's water director told reporters on Thursday.\r\n",
        "Texas' largest city, Houston, is under a so-called \"boil water notice\", with the US Centers for Disease Control and Prevention (CDC) advising that all water planned for consumption - even if filtered - must be boiled as it may be contaminated.\r\n",
        "Officials there say they are working to rapidly distribute bottled water, as well as power generators, to people in need. Breweries and other local businesses have also assisted with efforts to supply drinkable water.\r\n",
        "On Friday, Texas Governor Greg Abbott said the state is providing \"any and all resources to assist and to accelerate the response at the local level\".\r\n",
        "State officials could not offer a timeline for exactly when the water would come back on, saying it was a question for local water providers - and many have not yet fully assessed the damage to their systems.\r\n",
        "Gov Abbott also said more plumbers are headed to the state. Water pipes have been bursting across Texas due to the freeze, and local plumbers have struggled to meet demand.\r\n",
        "Over 320 plumbers have renewed their licences, and the state agencies are working with plumbing companies out-of-state to secure additional help, he said.\r\n",
        "As of Friday, storm warnings are still in place across much of Texas, but temperatures will rise in the coming days, according to the National Weather Service (NWS).\r\n",
        "The forecaster has also warned of dangerous travel conditions and power outages in eastern parts of the US as another winter storm system is expected to bring heavy snow, freezing rain and ice.\r\n",
        "As the state continues to grapple with the weather crisis, Texas Republican Senator Ted Cruz is facing a backlash after he left Houston on Wednesday for a vacation in Mexico with his family.\r\n",
        "Mr Cruz apologised on Thursday and returned to the US after initially planning to stay through the weekend.\r\n",
        "How deadly has the storm been?\r\n",
        "The recorded deaths in Texas include people who have died in traffic accidents, as well as some who suffered carbon monoxide poisoning from running cars and generators indoors to stay warm.\r\n",
        "In Harris County, home to Houston, there were more than 300 suspected cases of carbon monoxide poisoning during the cold snap. A local doctor described it as \"a mini mass casualty event\" to the Houston Chronicle newspaper.\r\n",
        "At least four people were killed following a house fire in Houston that officials said may have been sparked by candles.\r\n",
        "Separately, police said two men found alongside a Houston highway were believed to have died due to the cold.\r\n",
        "An 11-year-old boy died after temperatures outside his unheated mobile trailer home fell to below freezing. Authorities are now investigating whether Cristian Pavon, who was born in Honduras and saw snow for the first time in his life the day before his death, succumbed to hypothermia on Tuesday.\r\n",
        "Cristian's three-year-old stepbrother, who was asleep in the same bed as him, was not injured.\r\n",
        "Carrol Anderson, a 75-year-old Vietnam War veteran, died in his truck after he ran out of the oxygen tanks he used to breathe and went outside to get a spare.\r\n",
        "\"He shouldn't have had to die because he couldn't breathe because we didn't have power,\" his wife of 30 years told the Chronicle.\r\n",
        "His death was one of four announced by officials in the Houston region on Thursday.\r\n",
        "Two other men died in their homes and another man was found dead in a car park.\r\n",
        "Harris County Sheriff Ed Gonzalez emphasised: \"The weather is not just cold, it's deadly.\"\r\n",
        "\"\"\"\r\n",
        "\r\n",
        "test(real4)"
      ],
      "execution_count": 37,
      "outputs": [
        {
          "output_type": "stream",
          "text": [
            "real at 95.2502965927124%\n"
          ],
          "name": "stdout"
        }
      ]
    },
    {
      "cell_type": "code",
      "metadata": {
        "colab": {
          "base_uri": "https://localhost:8080/"
        },
        "id": "JyPivZ38IGn2",
        "outputId": "2a0f9b28-77b8-4444-f095-f4a6b37fd143"
      },
      "source": [
        "# From Bloomberg front page\r\n",
        "real5 = \"\"\"\r\n",
        "No Reprieve for Toronto as Tight Lockdown Extended to March\r\n",
        "Ontario’s government has scrapped plans to allow more businesses to reopen in Toronto after city officials warned it would be a deadly mistake.\r\n",
        "Stay-at-home orders will remain in place until at least March 8 in Canada’s largest city and financial center, as well as two other regions of the province. Toronto had been expected to return to less-stringent measures on Feb. 22, allowing for limited opening of some retail businesses that have been closed to in-person activity since November.\r\n",
        "“These are difficult but necessary decisions, in order to protect against Covid-19 variants and maintain the progress we have all made together,” Health Minister Christine Elliott said in a statement.\r\n",
        "The reversal came after municipal officials, including Toronto Mayor John Tory, urged Ontario Premier Doug Ford to slow down reopening plans, which would have allowed struggling retailers to open at 25% capacity.\r\n",
        "‘Downright Insulting’\r\n",
        "Right now, only essential stores such as supermarkets are allowed to have customers inside; restaurant dining rooms, movie theaters and many other indoor businesses are also closed.\r\n",
        "The Canadian Federation of Independent Business lambasted the government’s decision. “Being asked to just hang in there a little longer is an unacceptable and downright insulting response to the thousands of employers and their tens of thousands of employees whose livelihoods are on the line,” the group said in a statement.\r\n",
        "The absence of leadership in Ontario is absolutely breathtaking. The government has ceded all responsibility to the economic functioning of the province to unelected local heath officials who refuse even a courtesy discussion with the businesses they are bankrupting. #lockdowns\r\n",
        "Toronto’s chief medical officer, Eileen de Villa, has warned the city is in a deceptively dangerous situation. While growth in new Covid-19 cases has slowed, the experience of other countries, including Germany, has shown that new “variants of concern,” or VOCs, are capable of surging with little warning, she said.\r\n",
        "As of Feb. 17, 93,850 cases of Covid-19 had been confirmed in Toronto.\r\n",
        "Across the province, the number of cases has been declining for weeks. There have been 385 confirmed cases of the U.K. variant of the virus and nine cases of the South African variant, according to government data as of Feb. 18.\r\n",
        "The extended lockdown also applies to Peel, a heavily-populated suburban region west of Toronto, and North Bay-Parry Sound.\r\n",
        "Vaccine Reduction\r\n",
        "Earlier Friday, health officials released estimates that the province will receive about 2.6 million doses of vaccines per month in the second quarter, down from earlier estimates of 5 million a month. But they expect the pace of deliveries and vaccinations to accelerate in July.\r\n",
        "Retired General Rick Hillier, who’s in charge of Ontario’s vaccine logistics, said at a news conference Friday it will likely be “well into summer” before younger, less vulnerable people are able to receive a vaccine.\r\n",
        "“The number of vaccines, unfortunately, do not support us doing it any faster,” Hillier said.\r\n",
        "A spokesperson for the Ontario health ministry said the projection of 2.6 million per month in the second quarter is based on supplies of the two vaccines already approved for use in Canada -- the Pfizer Inc.-BioNTeck shot and the one developed by Moderna Inc. The approval of other vaccines by Canadian authorities could change the numbers.\r\n",
        "\"\"\"\r\n",
        "\r\n",
        "test(real5)"
      ],
      "execution_count": 38,
      "outputs": [
        {
          "output_type": "stream",
          "text": [
            "real at 88.06978464126587%\n"
          ],
          "name": "stdout"
        }
      ]
    },
    {
      "cell_type": "code",
      "metadata": {
        "id": "_f48erQ_I8VJ"
      },
      "source": [
        ""
      ],
      "execution_count": null,
      "outputs": []
    }
  ]
}